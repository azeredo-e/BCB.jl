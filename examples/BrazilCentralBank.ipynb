{
 "cells": [
  {
   "cell_type": "code",
   "execution_count": null,
   "id": "f68a83a4-df75-4ffe-a8fc-8aa323ffbdfc",
   "metadata": {},
   "outputs": [],
   "source": [
    "import Pkg; Pkg.status(\"BrazilCentralBank\")"
   ]
  },
  {
   "cell_type": "code",
   "execution_count": null,
   "id": "0b71348b-d638-45c2-81fd-3fbc14607fb8",
   "metadata": {},
   "outputs": [],
   "source": [
    "Pkg.add(\"BrazilCentralBank\", \"Plots\")"
   ]
  },
  {
   "cell_type": "code",
   "execution_count": null,
   "id": "85ecd4a3-cf3e-4414-a076-ccfad4ce2f4e",
   "metadata": {},
   "outputs": [],
   "source": [
    "using BrazilCentralBank, Plots"
   ]
  },
  {
   "cell_type": "code",
   "execution_count": null,
   "id": "5cc340c5-c06c-44c7-8ce6-875cd8207b84",
   "metadata": {},
   "outputs": [],
   "source": [
    "getcurrency_list()"
   ]
  },
  {
   "cell_type": "code",
   "execution_count": null,
   "id": "09303cc6-6ab0-4075-931f-81a47306627d",
   "metadata": {},
   "outputs": [],
   "source": [
    "const EUR = Currency(\"EUR\")"
   ]
  },
  {
   "cell_type": "code",
   "execution_count": null,
   "id": "79ed4434-c7f0-4e9c-bf76-334bec989a06",
   "metadata": {},
   "outputs": [],
   "source": [
    "EUR.getcurrencyseries(\"CHF\", \"2024-03-01\", \"2024-03-31\")\n",
    "df = getcurrencyseries([\"USD\", \"EUR\"], \"2024-03-01\", \"2024-03-31\")"
   ]
  },
  {
   "cell_type": "code",
   "execution_count": null,
   "id": "247dff34-c141-4665-a977-43fc692d673e",
   "metadata": {},
   "outputs": [],
   "source": [
    "plot(df.Date, [df.ask_USD df.ask_EUR]; label=[\"ask_USD\" \"ask_EUR\"])"
   ]
  },
  {
   "cell_type": "code",
   "execution_count": null,
   "id": "60864179-f20d-4923-906c-a14a4de8e775",
   "metadata": {},
   "outputs": [],
   "source": [
    "gettimeseries(Dict(\"USDBRL\" => 1), last=10)"
   ]
  },
  {
   "cell_type": "code",
   "execution_count": null,
   "id": "3437ce34-e7e5-4af5-8d8e-56c5f8dbdd58",
   "metadata": {},
   "outputs": [],
   "source": [
    "df_infl = gettimeseries(Dict(\"Inflacao\" => 433), start=\"2022-01-01\", finish=\"2023-01-01\")"
   ]
  },
  {
   "cell_type": "code",
   "execution_count": null,
   "id": "f13a81c6-af40-4473-8b62-5930804ced30",
   "metadata": {},
   "outputs": [],
   "source": [
    "plot(df_infl.Date, df_infl.Inflacao; label=\"Inflação\")"
   ]
  }
 ],
 "metadata": {
  "kernelspec": {
   "display_name": "Python 3 (ipykernel)",
   "language": "python",
   "name": "python3"
  },
  "language_info": {
   "name": ""
  }
 },
 "nbformat": 4,
 "nbformat_minor": 5
}
